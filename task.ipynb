{
 "cells": [
  {
   "cell_type": "code",
   "execution_count": 54,
   "metadata": {},
   "outputs": [],
   "source": [
    "import numpy as np\n",
    "import matplotlib.pyplot as plt\n",
    "import cv2 \n",
    "import math\n",
    "import random"
   ]
  },
  {
   "cell_type": "markdown",
   "metadata": {},
   "source": [
    "## Task 1 -- Image Validator"
   ]
  },
  {
   "cell_type": "markdown",
   "metadata": {},
   "source": [
    "##### Size Validation"
   ]
  },
  {
   "cell_type": "code",
   "execution_count": 6,
   "metadata": {},
   "outputs": [],
   "source": [
    "def image_size_validator(img):\n",
    "    width, height = img.shape[:2]\n",
    "    if width != 512 and height != 512:\n",
    "        print(\"Image size is not 512x512\")\n",
    "        return False\n",
    "    return True"
   ]
  },
  {
   "cell_type": "markdown",
   "metadata": {},
   "source": [
    "##### BackGround Color Validaton"
   ]
  },
  {
   "cell_type": "code",
   "execution_count": 7,
   "metadata": {},
   "outputs": [],
   "source": [
    "def background_color_validator(img):\n",
    "    width, height = img.shape[:2]\n",
    "    x_center = width // 2\n",
    "    y_center = height // 2\n",
    "    radius = width//2\n",
    "\n",
    "    # compute euclidean distance\n",
    "    def compute_distance(x, y):\n",
    "        return math.sqrt((x_center - x) ** 2 + (y_center - y) ** 2)\n",
    "\n",
    "    # check for transparency\n",
    "    for x in range(width):\n",
    "        for y in range(height):\n",
    "            distance = compute_distance(x, y)\n",
    "            pixel = img[y, x]\n",
    "            if (distance > radius+1.5):\n",
    "                if (pixel[3] != 0):\n",
    "                    print(\"there are colored pixels outside the circle\")\n",
    "                    return False\n",
    "\n",
    "    return True\n"
   ]
  },
  {
   "cell_type": "markdown",
   "metadata": {},
   "source": [
    "##### Happy Colors Helper Functions \n"
   ]
  },
  {
   "cell_type": "code",
   "execution_count": 8,
   "metadata": {},
   "outputs": [],
   "source": [
    "def find_avg_color(image):\n",
    "\n",
    "    if (image.shape[-1] != 4):\n",
    "        image = cv2.cvtColor(image, cv2.COLOR_RGB2RGBA)\n",
    "    else:\n",
    "        image = cv2.cvtColor(image, cv2.COLOR_BGRA2RGBA)\n",
    "\n",
    "    width, height = image.shape[:2]\n",
    "\n",
    "    \n",
    "    r_total = 0\n",
    "    g_total = 0\n",
    "    b_total = 0\n",
    "    count = 0\n",
    "\n",
    "    for i in range(width):\n",
    "        for j in range(height):\n",
    "            if (image[i][j][3] != 0):\n",
    "                r, g, b, a = image[i][j]\n",
    "                r_total += r\n",
    "                g_total += g\n",
    "                b_total += b\n",
    "                count += 1\n",
    "\n",
    "    r_avg = r_total/count\n",
    "    g_avg = g_total/count\n",
    "    b_avg = b_total/count\n",
    "\n",
    "    return (r_avg, g_avg, b_avg)\n"
   ]
  },
  {
   "cell_type": "code",
   "execution_count": 9,
   "metadata": {},
   "outputs": [],
   "source": [
    "\n",
    "def calculate_color_similarity(color1, color2):\n",
    "    # Calculate the Euclidean distance between two RGB colors\n",
    "    return np.linalg.norm(np.array(color1) - np.array(color2))\n",
    "\n",
    "\n",
    "def evaluate_happiness_of_avg_color(avg_color):\n",
    "    happy_colors_mapping = {\n",
    "        (0, 255, 0): \"Green\",\n",
    "        (0, 0, 255): \"Blue\",\n",
    "        (255, 255, 0): \"Yellow\",\n",
    "        (0, 255, 255): \"Cyan\",\n",
    "        (255, 0, 255): \"Magenta\",\n",
    "    }\n",
    "\n",
    "    similarity_scores = []\n",
    "    min_similarity_score = 0\n",
    "    # Loop over each happy color in the mapping\n",
    "    for happy_color in happy_colors_mapping.keys():\n",
    "\n",
    "        # Calculate the similarity score between the avg color and the current happy color\n",
    "        similarity_score = calculate_color_similarity(avg_color, happy_color)\n",
    "\n",
    "        # Add the similarity score to the list\n",
    "        similarity_scores.append(similarity_score)\n",
    "\n",
    "    # Find the minimum similarity score from the list that indicates which happy color it is most similar to\n",
    "    min_similarity_score = min(similarity_scores)\n",
    "\n",
    "    threshold = 185\n",
    "\n",
    "    if (min_similarity_score < threshold):\n",
    "        return True\n",
    "\n",
    "    print(\"Colors don't give a happy feeling\")\n",
    "    return False\n"
   ]
  },
  {
   "cell_type": "markdown",
   "metadata": {},
   "source": [
    "##### Happy Color Validator"
   ]
  },
  {
   "cell_type": "code",
   "execution_count": 10,
   "metadata": {},
   "outputs": [],
   "source": [
    "\n",
    "def happy_colors_validator(img):\n",
    "\n",
    "    avg_color = find_avg_color(img)\n",
    "\n",
    "    return evaluate_happiness_of_avg_color(avg_color)\n"
   ]
  },
  {
   "cell_type": "markdown",
   "metadata": {},
   "source": [
    "### Image Validator"
   ]
  },
  {
   "cell_type": "code",
   "execution_count": 11,
   "metadata": {},
   "outputs": [],
   "source": [
    "def image_validator(img):\n",
    "\n",
    "    if image_size_validator(img) and background_color_validator(img) and happy_colors_validator(img):\n",
    "        print(\"Image is valid\")\n",
    "        return True\n",
    "\n",
    "    print(\"Image is invalid\")\n",
    "    return False\n"
   ]
  },
  {
   "cell_type": "markdown",
   "metadata": {},
   "source": [
    "### Testing"
   ]
  },
  {
   "cell_type": "code",
   "execution_count": 67,
   "metadata": {},
   "outputs": [
    {
     "name": "stdout",
     "output_type": "stream",
     "text": [
      "there are colored pixels outside the circle\n",
      "Image is invalid\n",
      "False\n"
     ]
    }
   ],
   "source": [
    "file_path = 'c6.png'\n",
    "\n",
    "image = cv2.imread(file_path, cv2.IMREAD_UNCHANGED)\n",
    "\n",
    "print(image_validator(image))\n"
   ]
  },
  {
   "cell_type": "markdown",
   "metadata": {},
   "source": [
    "# Task 2 -- Image formatter\n"
   ]
  },
  {
   "cell_type": "markdown",
   "metadata": {},
   "source": [
    "##### Image Resizer"
   ]
  },
  {
   "cell_type": "code",
   "execution_count": 13,
   "metadata": {},
   "outputs": [],
   "source": [
    "def reshape_image(img):\n",
    "\n",
    "    if (image_size_validator(img)):\n",
    "        return img\n",
    "\n",
    "    width, height = img.shape[:2]\n",
    "\n",
    "    scale = 512.0 / max(width, height)\n",
    "\n",
    "    new_img = cv2.resize(img, (512, 512), fx=scale,\n",
    "                         fy=scale, interpolation=cv2.INTER_CUBIC)\n",
    "\n",
    "    return new_img\n"
   ]
  },
  {
   "cell_type": "markdown",
   "metadata": {},
   "source": [
    "##### Bacgkround Color Helper Function"
   ]
  },
  {
   "cell_type": "code",
   "execution_count": 94,
   "metadata": {},
   "outputs": [],
   "source": [
    "def get_circle_prams(image):\n",
    "\n",
    "    # Converting the image to grayscale\n",
    "    if image.shape[-1] == 4:  # Checking if the image has an alpha channel\n",
    "        gray_image = cv2.cvtColor(image, cv2.COLOR_BGRA2GRAY)\n",
    "    else:\n",
    "        gray_image = cv2.cvtColor(image, cv2.COLOR_BGR2GRAY)\n",
    "\n",
    "    # Applying Gaussian blur to reduce noise\n",
    "    blurred_image = cv2.GaussianBlur(gray_image, (9, 9), 0)\n",
    "\n",
    "    # Detecting circles using Hough Circle Transform\n",
    "    circles = cv2.HoughCircles(blurred_image, cv2.HOUGH_GRADIENT, dp=1, minDist=20,\n",
    "                               param1=50, param2=30, minRadius=0, maxRadius=500)\n",
    "\n",
    "    if circles is None:\n",
    "        raise ValueError(\"No circles detected.\")\n",
    "\n",
    "    # Assuming only one circle is detected\n",
    "    circle = np.uint16(np.around(circles[0][0]))\n",
    "\n",
    "    # Extracting circle center coordinates and radius\n",
    "    center_x, center_y = circle[0], circle[1]\n",
    "    radius = circle[2]\n",
    "\n",
    "    return center_x, center_y, radius\n"
   ]
  },
  {
   "cell_type": "markdown",
   "metadata": {},
   "source": [
    "##### Background Color Remover"
   ]
  },
  {
   "cell_type": "code",
   "execution_count": 15,
   "metadata": {},
   "outputs": [],
   "source": [
    "def remove_background_color(image):\n",
    "    if (background_color_validator(image)):\n",
    "        return image\n",
    "\n",
    "    center_x, center_y, radius = get_circle_prams(image)\n",
    "\n",
    "    # Creating a mask to keep only the pixels inside the circle\n",
    "    mask = np.zeros(image.shape[:2], dtype=np.uint8)\n",
    "\n",
    "    cv2.circle(mask, (center_x, center_y), radius, 255, -1)\n",
    "\n",
    "    # Extracting the region inside the circle   \n",
    "    roi = cv2.bitwise_and(image, image, mask=mask)\n",
    "\n",
    "    return roi\n"
   ]
  },
  {
   "cell_type": "code",
   "execution_count": 19,
   "metadata": {},
   "outputs": [],
   "source": [
    "def colored_pixels_size(image):\n",
    "    return np.sum(image[:,:,3]!=0)"
   ]
  },
  {
   "cell_type": "markdown",
   "metadata": {},
   "source": [
    "##### Happy Colors Schema"
   ]
  },
  {
   "cell_type": "code",
   "execution_count": 22,
   "metadata": {},
   "outputs": [],
   "source": [
    "shades_of_blue = np.array([\n",
    "    [0, 0, 255],  # Royal Blue\n",
    "    [0, 0, 128],  # Navy Blue\n",
    "    [0, 0, 205],  # Medium Blue\n",
    "    [135, 206, 235],  # Sky Blue\n",
    "    [70, 130, 180],   # Steel Blue\n",
    "    [0, 191, 255],    # Deep Sky Blue\n",
    "    [30, 144, 255],   # Dodger Blue\n",
    "    [0, 128, 128],    # Teal\n",
    "    [0, 0, 139],      # Dark Blue\n",
    "    [25, 25, 112],    # Midnight Blue\n",
    "    [0, 102, 204],    # Cerulean Blue\n",
    "    [0, 119, 190],    # Sapphire\n",
    "    [0, 68, 204],     # Persian Blue\n",
    "    [173, 216, 230],  # Light Blue\n",
    "    [32, 178, 170],   # Light Sea Green\n",
    "    [70, 130, 180]    # Steel Blue\n",
    "])\n",
    "\n",
    "shades_of_green = np.array([\n",
    "    [0, 128, 0],      # Green\n",
    "    [0, 255, 0],      # Lime Green\n",
    "    [0, 100, 0],      # Dark Green\n",
    "    [34, 139, 34],    # Forest Green\n",
    "    [50, 205, 50],    # Lime\n",
    "    [0, 128, 128],    # Teal\n",
    "    [46, 139, 87],    # Sea Green\n",
    "    [60, 179, 113],   # Medium Sea Green\n",
    "    [0, 255, 127],    # Spring Green\n",
    "    [0, 250, 154],    # Medium Spring Green\n",
    "    [154, 205, 50],   # Yellow Green\n",
    "    [144, 238, 144],  # Light Green\n",
    "    [0, 128, 0],      # Green\n",
    "    [0, 255, 0],      # Lime Green\n",
    "    [0, 100, 0],      # Dark Green\n",
    "    [107, 142, 35],   # Olive Drab\n",
    "])\n",
    "\n",
    "shades_of_orange = np.array([\n",
    "    [255, 165, 0],    # Orange\n",
    "    [255, 140, 0],    # Dark Orange\n",
    "    [255, 69, 0],     # Red Orange\n",
    "    [255, 127, 80],   # Coral\n",
    "    [255, 99, 71],    # Tomato\n",
    "    [255, 228, 181],  # Moccasin\n",
    "    [255, 215, 0],    # Gold\n",
    "    [255, 250, 205],  # Lemon Chiffon\n",
    "    [255, 193, 37],   # Flax\n",
    "    [255, 140, 0],    # Dark Orange\n",
    "    [218, 165, 32],   # Goldenrod\n",
    "    [255, 165, 0],    # Orange\n",
    "    [255, 69, 0],     # Red Orange\n",
    "    [255, 215, 0],    # Gold\n",
    "    [255, 140, 0],    # Dark Orange\n",
    "    [205, 133, 63],   # Peru\n",
    "])"
   ]
  },
  {
   "cell_type": "markdown",
   "metadata": {},
   "source": [
    "##### Happy Colors Adaptor"
   ]
  },
  {
   "cell_type": "code",
   "execution_count": 90,
   "metadata": {},
   "outputs": [],
   "source": [
    "def adjust_happiness(image):\n",
    "\n",
    "    if (happy_colors_validator(image)):\n",
    "        return image\n",
    "\n",
    "    image = cv2.cvtColor(image, cv2.COLOR_BGR2BGRA)\n",
    "    \n",
    "    width, height = image.shape[:2]\n",
    "\n",
    "    colored_pixels_count = colored_pixels_size(image)\n",
    "    block_size = colored_pixels_count//3\n",
    "\n",
    "    random_happy_color = None\n",
    "    pick = 1\n",
    "    count = 0\n",
    "    picked = False\n",
    "\n",
    "    shades_map = {\n",
    "        1: shades_of_blue,\n",
    "        2: shades_of_orange,\n",
    "        3: shades_of_green,\n",
    "    }\n",
    "\n",
    "    for x in range(width):\n",
    "        for y in range(height):\n",
    "            pixel = image[y, x]\n",
    "            if (pixel[3] > 0):\n",
    "                if (count < block_size and not picked):\n",
    "                    random_happy_color = random.choice(shades_map[pick])\n",
    "                    picked = True\n",
    "\n",
    "                elif (count == block_size):\n",
    "                    count = 0\n",
    "                    pick += 1\n",
    "                    picked = False\n",
    "\n",
    "                count += 1\n",
    "                image[y, x, :3] = random_happy_color\n",
    "\n",
    "    return image\n"
   ]
  },
  {
   "cell_type": "markdown",
   "metadata": {},
   "source": [
    "### Image Formatter"
   ]
  },
  {
   "cell_type": "code",
   "execution_count": 77,
   "metadata": {},
   "outputs": [],
   "source": [
    "def image_formatter(image):\n",
    "    image = reshape_image(image)\n",
    "    image = remove_background_color(image)\n",
    "    image = adjust_happiness(image)\n",
    "\n",
    "    return image\n"
   ]
  },
  {
   "cell_type": "markdown",
   "metadata": {},
   "source": [
    "### Testing"
   ]
  },
  {
   "cell_type": "markdown",
   "metadata": {},
   "source": [
    "##### keep runing until you get your desired combination of colors :)"
   ]
  },
  {
   "cell_type": "code",
   "execution_count": 93,
   "metadata": {},
   "outputs": [
    {
     "name": "stdout",
     "output_type": "stream",
     "text": [
      "Colors don't give a happy feeling\n"
     ]
    },
    {
     "data": {
      "image/png": "[encoded data removed]",
      "text/plain": [
       "<Figure size 640x480 with 1 Axes>"
      ]
     },
     "metadata": {},
     "output_type": "display_data"
    },
    {
     "data": {
      "image/png": "[encoded data removed]",
      "text/plain": [
       "<Figure size 640x480 with 1 Axes>"
      ]
     },
     "metadata": {},
     "output_type": "display_data"
    }
   ],
   "source": [
    "file_p = 'c12.png'\n",
    "\n",
    "img = cv2.imread(file_p, cv2.IMREAD_UNCHANGED)\n",
    "img = cv2.cvtColor(img, cv2.COLOR_BGRA2RGBA)\n",
    "new_img = image_formatter(img)\n",
    "\n",
    "plt.imshow(img)\n",
    "plt.show()\n",
    "\n",
    "plt.imshow(new_img)\n",
    "plt.show()\n"
   ]
  }
 ],
 "metadata": {
  "kernelspec": {
   "display_name": "Bachelor",
   "language": "python",
   "name": "python3"
  },
  "language_info": {
   "codemirror_mode": {
    "name": "ipython",
    "version": 3
   },
   "file_extension": ".py",
   "mimetype": "text/x-python",
   "name": "python",
   "nbconvert_exporter": "python",
   "pygments_lexer": "ipython3",
   "version": "3.11.2"
  },
  "orig_nbformat": 4
 },
 "nbformat": 4,
 "nbformat_minor": 2
}
